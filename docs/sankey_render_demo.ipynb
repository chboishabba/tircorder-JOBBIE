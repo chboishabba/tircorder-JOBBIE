{
 "cells": [
  {
   "cell_type": "code",
   "execution_count": null,
   "metadata": {},
   "outputs": [],
   "source": [
    "from visualisation.sankey_render import AccountStyle, Flow, render_sankey\n",
    "flows = [\n",
    "    Flow('Income', 'Savings', 1000, AccountStyle('#2ca02c', 0.0), AccountStyle('#1f77b4', 0.5))\n",
    "]\n",
    "render_sankey(flows, 'example_sankey.html')\n",
    "print('Generated example_sankey.html')\n"
   ]
  }
 ],
 "metadata": {
  "kernelspec": {
   "display_name": "Python 3",
   "language": "python",
   "name": "python3"
  },
  "language_info": {
   "name": "python",
   "pygments_lexer": "ipython3"
  }
 },
 "nbformat": 4,
 "nbformat_minor": 2
}
